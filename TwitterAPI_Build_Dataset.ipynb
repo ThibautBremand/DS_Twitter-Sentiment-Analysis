{
 "cells": [
  {
   "cell_type": "markdown",
   "metadata": {},
   "source": [
    "# Gather tweets from the Twitter API"
   ]
  },
  {
   "cell_type": "markdown",
   "metadata": {},
   "source": [
    "### Imports"
   ]
  },
  {
   "cell_type": "code",
   "execution_count": 1,
   "metadata": {},
   "outputs": [],
   "source": [
    "import tweepy\n",
    "from tweepy import OAuthHandler\n",
    "import re\n",
    "import pandas as pd"
   ]
  },
  {
   "cell_type": "markdown",
   "metadata": {},
   "source": [
    "### Access to the Twitter API"
   ]
  },
  {
   "cell_type": "code",
   "execution_count": 2,
   "metadata": {},
   "outputs": [],
   "source": [
    "consumer_key = 'xxx'\n",
    "consumer_secret = 'xxx'\n",
    "access_token = 'xxx'\n",
    "access_secret = 'xxx'\n",
    " \n",
    "auth = OAuthHandler(consumer_key, consumer_secret)\n",
    "auth.set_access_token(access_token, access_secret)\n",
    " \n",
    "api = tweepy.API(auth)"
   ]
  },
  {
   "cell_type": "markdown",
   "metadata": {},
   "source": [
    "### Search for Tweets"
   ]
  },
  {
   "cell_type": "markdown",
   "metadata": {},
   "source": [
    "Constants"
   ]
  },
  {
   "cell_type": "code",
   "execution_count": 3,
   "metadata": {},
   "outputs": [],
   "source": [
    "# Define the emoticons referentials here\n",
    "CONST_positive_emoticons = [':)', ':-)', ': )', ':D', '=)', ':p', ';)']\n",
    "CONST_negative_emoticons = [':(', ':-(', ': (']\n",
    "\n",
    "# Define the sentiment scores here\n",
    "CONST_positive_sentiment_score = 4\n",
    "CONST_negative_sentiment_score = 0\n",
    "\n",
    "# Nb of tweets by query\n",
    "CONST_nbTweets = 100\n",
    "\n",
    "# Export CSV file\n",
    "CONST_exportFilePath = 'trainingandtestdata/trainingSet.csv'"
   ]
  },
  {
   "cell_type": "markdown",
   "metadata": {},
   "source": [
    "Global variables"
   ]
  },
  {
   "cell_type": "code",
   "execution_count": 4,
   "metadata": {},
   "outputs": [],
   "source": [
    "parsed_tweets = []"
   ]
  },
  {
   "cell_type": "markdown",
   "metadata": {},
   "source": [
    "Functions"
   ]
  },
  {
   "cell_type": "code",
   "execution_count": 5,
   "metadata": {},
   "outputs": [],
   "source": [
    "# Store the tweets with their calculated polarity into a list\n",
    "def parse_tweet(tweet, sum_positive, sum_negative, query):\n",
    "    \n",
    "    # We ignore the tweets with both positive and negative emoticons, and we ignore the tweets without emoticons as well\n",
    "    if sum_positive > 0 and sum_negative == 0:\n",
    "        parsed_tweets.append([CONST_positive_sentiment_score, tweet.id , tweet.created_at, query, tweet.author.name, tweet.text])\n",
    "        \n",
    "    if sum_negative > 0 and sum_positive == 0:\n",
    "        parsed_tweets.append([CONST_negative_sentiment_score, tweet.id , tweet.created_at, query, tweet.author.name, tweet.text])"
   ]
  },
  {
   "cell_type": "code",
   "execution_count": 6,
   "metadata": {},
   "outputs": [],
   "source": [
    "# Calculate the polarity of a tweet by counting its number of positive and negative emoticons in it\n",
    "def calculate_polarity_by_emoticons(tweetsList, query):\n",
    "    \n",
    "    for tweet in tweetsList:\n",
    "        sum_positive = 0\n",
    "        sum_negative = 0\n",
    "\n",
    "        # Count the number of positive emoticons in the tweet\n",
    "        for pos_emoticon in CONST_positive_emoticons:\n",
    "            sum_positive = sum_positive + tweet.text.count(pos_emoticon)\n",
    "            \n",
    "        # Count for negative emoticons\n",
    "        for neg_emoticon in CONST_negative_emoticons:\n",
    "            sum_negative = sum_negative + tweet.text.count(neg_emoticon)\n",
    "\n",
    "        parse_tweet(tweet, sum_positive, sum_negative, query)"
   ]
  },
  {
   "cell_type": "markdown",
   "metadata": {},
   "source": [
    "Main algorithm"
   ]
  },
  {
   "cell_type": "code",
   "execution_count": 7,
   "metadata": {},
   "outputs": [
    {
     "data": {
      "text/html": [
       "<div>\n",
       "<style scoped>\n",
       "    .dataframe tbody tr th:only-of-type {\n",
       "        vertical-align: middle;\n",
       "    }\n",
       "\n",
       "    .dataframe tbody tr th {\n",
       "        vertical-align: top;\n",
       "    }\n",
       "\n",
       "    .dataframe thead th {\n",
       "        text-align: right;\n",
       "    }\n",
       "</style>\n",
       "<table border=\"1\" class=\"dataframe\">\n",
       "  <thead>\n",
       "    <tr style=\"text-align: right;\">\n",
       "      <th></th>\n",
       "      <th>sentiment_score</th>\n",
       "      <th>id</th>\n",
       "      <th>date</th>\n",
       "      <th>query</th>\n",
       "      <th>author</th>\n",
       "      <th>tweet</th>\n",
       "    </tr>\n",
       "  </thead>\n",
       "  <tbody>\n",
       "    <tr>\n",
       "      <th>0</th>\n",
       "      <td>4</td>\n",
       "      <td>1079461781200912386</td>\n",
       "      <td>2018-12-30 19:38:38</td>\n",
       "      <td>:)</td>\n",
       "      <td>lexx ;)</td>\n",
       "      <td>happiness in quite a few aspects of my life ha...</td>\n",
       "    </tr>\n",
       "    <tr>\n",
       "      <th>1</th>\n",
       "      <td>4</td>\n",
       "      <td>1079461779506368518</td>\n",
       "      <td>2018-12-30 19:38:38</td>\n",
       "      <td>:)</td>\n",
       "      <td>Pål Nes</td>\n",
       "      <td>@JeevanSChagger Ole coached Ronaldo as a strik...</td>\n",
       "    </tr>\n",
       "    <tr>\n",
       "      <th>2</th>\n",
       "      <td>4</td>\n",
       "      <td>1079461776905908225</td>\n",
       "      <td>2018-12-30 19:38:37</td>\n",
       "      <td>:)</td>\n",
       "      <td>♡ 𝒞𝒶𝓂𝒾𝓁𝒶 ♡</td>\n",
       "      <td>RT @jeonha_32: 2017, Wanna One❤\\n2018, Wanna O...</td>\n",
       "    </tr>\n",
       "    <tr>\n",
       "      <th>3</th>\n",
       "      <td>4</td>\n",
       "      <td>1079461772338184192</td>\n",
       "      <td>2018-12-30 19:38:36</td>\n",
       "      <td>:)</td>\n",
       "      <td>80K daaru</td>\n",
       "      <td>RT @Art_for_NaMo: Thank you for liking the art...</td>\n",
       "    </tr>\n",
       "    <tr>\n",
       "      <th>4</th>\n",
       "      <td>4</td>\n",
       "      <td>1079461771910365184</td>\n",
       "      <td>2018-12-30 19:38:36</td>\n",
       "      <td>:)</td>\n",
       "      <td>Mervkd</td>\n",
       "      <td>RT @SportsGamingg: $500 GIVEAWAY!!!\\nFOLLOW ME...</td>\n",
       "    </tr>\n",
       "  </tbody>\n",
       "</table>\n",
       "</div>"
      ],
      "text/plain": [
       "   sentiment_score                   id                date query      author  \\\n",
       "0                4  1079461781200912386 2018-12-30 19:38:38    :)     lexx ;)   \n",
       "1                4  1079461779506368518 2018-12-30 19:38:38    :)     Pål Nes   \n",
       "2                4  1079461776905908225 2018-12-30 19:38:37    :)  ♡ 𝒞𝒶𝓂𝒾𝓁𝒶 ♡   \n",
       "3                4  1079461772338184192 2018-12-30 19:38:36    :)   80K daaru   \n",
       "4                4  1079461771910365184 2018-12-30 19:38:36    :)      Mervkd   \n",
       "\n",
       "                                               tweet  \n",
       "0  happiness in quite a few aspects of my life ha...  \n",
       "1  @JeevanSChagger Ole coached Ronaldo as a strik...  \n",
       "2  RT @jeonha_32: 2017, Wanna One❤\\n2018, Wanna O...  \n",
       "3  RT @Art_for_NaMo: Thank you for liking the art...  \n",
       "4  RT @SportsGamingg: $500 GIVEAWAY!!!\\nFOLLOW ME...  "
      ]
     },
     "execution_count": 7,
     "metadata": {},
     "output_type": "execute_result"
    }
   ],
   "source": [
    "# Search for public tweets with a positive emoticon, in english\n",
    "positive_public_tweets = api.search(CONST_positive_emoticons[0], lang='en', count=CONST_nbTweets)\n",
    "\n",
    "# Same with negative ones\n",
    "negative_public_tweets = api.search(CONST_negative_emoticons[0], lang='en', count=CONST_nbTweets)\n",
    "\n",
    "# Calculate tweets polarity and store them into a Python list\n",
    "calculate_polarity_by_emoticons(positive_public_tweets, CONST_positive_emoticons[0])\n",
    "calculate_polarity_by_emoticons(negative_public_tweets, CONST_negative_emoticons[0])\n",
    "\n",
    "# Convert the list into a Pandas dataframe\n",
    "df = pd.DataFrame(data = parsed_tweets , columns = ['sentiment_score', 'id', 'date', 'query', 'author', 'tweet'])\n",
    "\n",
    "df.head()"
   ]
  },
  {
   "cell_type": "markdown",
   "metadata": {},
   "source": [
    "### Append the tweets to the training dataset CSV file"
   ]
  },
  {
   "cell_type": "code",
   "execution_count": 8,
   "metadata": {},
   "outputs": [],
   "source": [
    "# Export - Append in CSV\n",
    "with open(CONST_exportFilePath, 'a') as f:\n",
    "    df.to_csv(f, header=False)"
   ]
  },
  {
   "cell_type": "markdown",
   "metadata": {},
   "source": [
    "### Author : Thibaut BREMAND\n",
    "- thibaut.bremand [at] gmail.com\n",
    "- https://github.com/ThibautBremand\n",
    "\n",
    "### Sources :  \n",
    "- https://marcobonzanini.com/2015/03/02/mining-twitter-data-with-python-part-1/"
   ]
  }
 ],
 "metadata": {
  "kernelspec": {
   "display_name": "Python 3",
   "language": "python",
   "name": "python3"
  },
  "language_info": {
   "codemirror_mode": {
    "name": "ipython",
    "version": 3
   },
   "file_extension": ".py",
   "mimetype": "text/x-python",
   "name": "python",
   "nbconvert_exporter": "python",
   "pygments_lexer": "ipython3",
   "version": "3.6.6"
  }
 },
 "nbformat": 4,
 "nbformat_minor": 2
}
